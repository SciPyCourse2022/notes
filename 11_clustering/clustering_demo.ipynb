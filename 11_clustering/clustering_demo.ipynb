{
 "cells": [
  {
   "cell_type": "markdown",
   "metadata": {},
   "source": [
    "### Imports:"
   ]
  },
  {
   "cell_type": "code",
   "execution_count": null,
   "metadata": {},
   "outputs": [],
   "source": [
    "%matplotlib inline\n",
    "import numpy as np\n",
    "import matplotlib.pyplot as plt\n",
    "from sklearn.decomposition import PCA\n",
    "from sklearn import cluster\n",
    "from sklearn.datasets import make_classification, make_blobs"
   ]
  },
  {
   "cell_type": "markdown",
   "metadata": {},
   "source": [
    "### Generate easy and hard data: 3 clusters embedded in 20 dimensional space:"
   ]
  },
  {
   "cell_type": "code",
   "execution_count": null,
   "metadata": {},
   "outputs": [],
   "source": [
    "np.random.seed(0)\n",
    "\n",
    "# generate \"easy\" 20 dimensional data with 3 clusters in it:\n",
    "easy20, _ = make_blobs(n_samples=10000, n_features=20, centers=3, cluster_std=1.0,\n",
    "                       center_box=(-10.0, 10.0), shuffle=True, random_state=1)\n",
    "\n",
    "# generate \"hard\" 20 dimensional data with 3 clusters in it:\n",
    "hard20, _ = make_classification(n_samples=10000, n_features=20, n_informative=2,\n",
    "                                n_redundant=2, n_repeated=0, n_classes=1,\n",
    "                                n_clusters_per_class=3, hypercube=True, random_state=77)"
   ]
  },
  {
   "cell_type": "code",
   "execution_count": null,
   "metadata": {},
   "outputs": [],
   "source": [
    "easy20.shape"
   ]
  },
  {
   "cell_type": "markdown",
   "metadata": {},
   "source": [
    "### Plot some 2D projections of easy and hard data:"
   ]
  },
  {
   "cell_type": "code",
   "execution_count": null,
   "metadata": {},
   "outputs": [],
   "source": [
    "f, ax = plt.subplots(nrows=1, ncols=3, figsize=(15, 5))\n",
    "ax[0].set_title('easy')\n",
    "ax[0].set_xlabel('Dimension 0')\n",
    "ax[0].set_ylabel('Dimension 1')\n",
    "ax[0].scatter(easy20[:, 0], easy20[:, 1], s=1) # plot x vs. y for first two dimensions\n",
    "ax[1].set_title('easy')\n",
    "ax[1].set_xlabel('Dimension 2')\n",
    "ax[1].set_ylabel('Dimension 3')\n",
    "ax[1].scatter(easy20[:, 2], easy20[:, 3], s=1) # plot x vs. y for second two dimensions\n",
    "ax[2].set_title('easy')\n",
    "ax[2].set_xlabel('Dimension 4')\n",
    "ax[2].set_ylabel('Dimension 5')\n",
    "ax[2].scatter(easy20[:, 4], easy20[:, 5], s=1) # plot x vs. y for third two dimensions"
   ]
  },
  {
   "cell_type": "markdown",
   "metadata": {},
   "source": [
    "The 3 clusters are pretty easy to spot, almost regardless of which two dimensions (plane) you choose."
   ]
  },
  {
   "cell_type": "code",
   "execution_count": null,
   "metadata": {},
   "outputs": [],
   "source": [
    "f, ax = plt.subplots(nrows=1, ncols=3, figsize=(15, 5))\n",
    "ax[0].set_title('hard')\n",
    "ax[0].set_xlabel('Dimension 0')\n",
    "ax[0].set_ylabel('Dimension 1')\n",
    "ax[0].scatter(hard20[:, 0], hard20[:, 1], s=1) # plot x vs. y for first two dimensions\n",
    "ax[1].set_title('hard')\n",
    "ax[1].set_xlabel('Dimension 2')\n",
    "ax[1].set_ylabel('Dimension 3')\n",
    "ax[1].scatter(hard20[:, 2], hard20[:, 3], s=1) # plot x vs. y for second two dimensions\n",
    "ax[2].set_title('hard')\n",
    "ax[2].set_xlabel('Dimension 4')\n",
    "ax[2].set_ylabel('Dimension 5')\n",
    "ax[2].scatter(hard20[:, 4], hard20[:, 5], s=1) # plot x vs. y for third two dimensions"
   ]
  },
  {
   "cell_type": "markdown",
   "metadata": {},
   "source": [
    "The 3 clusters look like just one big blob, regardless of which two dimensions (plane) you choose. Finding the ideal dimensions to view the data in isn't as trivial as for the \"easy\" data."
   ]
  },
  {
   "cell_type": "markdown",
   "metadata": {},
   "source": [
    "### Use PCA to reduce to top 2 most informative dimensions:"
   ]
  },
  {
   "cell_type": "code",
   "execution_count": null,
   "metadata": {},
   "outputs": [],
   "source": [
    "f, ax = plt.subplots(figsize=(10, 5), nrows=1, ncols=2)\n",
    "\n",
    "# easy data:\n",
    "pca = PCA(n_components=2) # create a PCA object, ask for only the top 2 components\n",
    "easy2 = pca.fit_transform(easy20) # calculate top 2 principal components, project data onto them\n",
    "ax[0].scatter(easy2[:, 0], easy2[:, 1], s=1) # plot x vs. y for all samples in easy2\n",
    "ax[0].set_title('PCA reduced, easy data')\n",
    "ax[0].set_xlabel('PC1')\n",
    "ax[0].set_ylabel('PC2')\n",
    "\n",
    "# hard data:\n",
    "pca = PCA(n_components=2) # create a PCA object, ask for only the top 2 components\n",
    "hard2 = pca.fit_transform(hard20) # calculate top 2 principal components, project data onto them\n",
    "ax[1].scatter(hard2[:, 0], hard2[:, 1], s=1) # plot x vs. y for all samples in easy2\n",
    "ax[1].set_title('PCA reduced, hard data')\n",
    "ax[1].set_xlabel('PC1')\n",
    "ax[1].set_ylabel('PC2')"
   ]
  },
  {
   "cell_type": "markdown",
   "metadata": {},
   "source": [
    "### Clustering with K-Means:"
   ]
  },
  {
   "cell_type": "code",
   "execution_count": null,
   "metadata": {},
   "outputs": [],
   "source": [
    "f, ax = plt.subplots(figsize=(10, 5), nrows=1, ncols=2)\n",
    "# repeating list of colors that we can index into using cluster IDs:\n",
    "colorset = np.array(['red', 'orange', 'green', 'blue', 'magenta', 'gray', 'brown', 'black']*10)\n",
    "\n",
    "## easy data:\n",
    "kmeans = cluster.KMeans(n_clusters=3) # create a KMeans object, tell it n_clusters you want\n",
    "kmeans.fit(easy2) # apply KMeans to the easy dimension-reduced data\n",
    "cids = kmeans.labels_ # get resulting cluster IDs from the kmeans object, one for each sample\n",
    "colors = colorset[cids] # convert cluster IDs to colors\n",
    "ax[0].scatter(easy2[:, 0], easy2[:, 1], s=1, color=colors) # plot x vs. y for all samples\n",
    "ax[0].set_title('KMeans, PCA reduced, easy data')\n",
    "ax[0].set_xlabel('PC1')\n",
    "ax[0].set_ylabel('PC2')\n",
    "\n",
    "## hard data:\n",
    "kmeans = cluster.KMeans(n_clusters=3) # create a KMeans object, tell it n_clusters you want\n",
    "kmeans.fit(hard2) # apply KMeans to the hard dimension-reduced data\n",
    "cids = kmeans.labels_ # get resulting cluster IDs from the kmeans object, one for each sample\n",
    "colors = colorset[cids] # convert cluster IDs to colors\n",
    "ax[1].scatter(hard2[:, 0], hard2[:, 1], s=1, color=colors) # plot x vs. y for all samples\n",
    "ax[1].set_title('KMeans, PCA reduced, hard data')\n",
    "ax[1].set_xlabel('PC1')\n",
    "ax[1].set_ylabel('PC2')"
   ]
  },
  {
   "cell_type": "code",
   "execution_count": null,
   "metadata": {},
   "outputs": [],
   "source": [
    "len(cids)"
   ]
  },
  {
   "cell_type": "markdown",
   "metadata": {},
   "source": [
    "### Clustering with DBSCAN:"
   ]
  },
  {
   "cell_type": "code",
   "execution_count": null,
   "metadata": {},
   "outputs": [],
   "source": [
    "f, ax = plt.subplots(figsize=(10, 5), nrows=1, ncols=2)\n",
    "# repeating list of colors that we can index into using cluster IDs:\n",
    "colorset = np.array(['red', 'orange', 'green', 'blue', 'magenta', 'gray', 'brown', 'black']*10)\n",
    "\n",
    "## easy data:\n",
    "dbscan = cluster.DBSCAN(eps=2, min_samples=80) # create a DBSCAN object, set its two parameters\n",
    "dbscan.fit(easy2) # apply DBSCAN to the easy dimension-reduced data\n",
    "cids = dbscan.labels_ # get resulting cluster IDs from the kmeans object, one for each sample\n",
    "colors = colorset[cids] # convert cluster IDs to colors\n",
    "ax[0].scatter(easy2[:, 0], easy2[:, 1], s=1, color=colors) # plot x vs. y for all samples\n",
    "ax[0].set_title('DBSCAN, PCA reduced, easy data')\n",
    "ax[0].set_xlabel('PC1')\n",
    "ax[0].set_ylabel('PC2')\n",
    "\n",
    "## hard data:\n",
    "dbscan = cluster.DBSCAN(eps=0.2075, min_samples=80) # create a DBSCAN object, set its two parameters\n",
    "dbscan.fit(hard2) # apply DBSCAN to the hard dimension-reduced data\n",
    "cids = dbscan.labels_ # get resulting cluster IDs from the kmeans object, one for each sample\n",
    "colors = colorset[cids] # convert cluster IDs to colors\n",
    "ax[1].scatter(hard2[:, 0], hard2[:, 1], s=1, color=colors) # plot x vs. y for all samples\n",
    "ax[1].set_title('DBSCAN, PCA reduced, hard data')\n",
    "ax[1].set_xlabel('PC1')\n",
    "ax[1].set_ylabel('PC2')"
   ]
  },
  {
   "cell_type": "code",
   "execution_count": null,
   "metadata": {},
   "outputs": [],
   "source": []
  }
 ],
 "metadata": {
  "kernelspec": {
   "display_name": "Python 3 (ipykernel)",
   "language": "python",
   "name": "python3"
  },
  "language_info": {
   "codemirror_mode": {
    "name": "ipython",
    "version": 3
   },
   "file_extension": ".py",
   "mimetype": "text/x-python",
   "name": "python",
   "nbconvert_exporter": "python",
   "pygments_lexer": "ipython3",
   "version": "3.8.10"
  }
 },
 "nbformat": 4,
 "nbformat_minor": 2
}
