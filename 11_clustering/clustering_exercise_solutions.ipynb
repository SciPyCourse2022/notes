{
 "cells": [
  {
   "cell_type": "markdown",
   "metadata": {},
   "source": [
    "### Imports:"
   ]
  },
  {
   "cell_type": "code",
   "execution_count": null,
   "metadata": {},
   "outputs": [],
   "source": [
    "%matplotlib inline\n",
    "import numpy as np\n",
    "import matplotlib.pyplot as plt\n",
    "from sklearn.decomposition import PCA\n",
    "from sklearn import cluster"
   ]
  },
  {
   "cell_type": "markdown",
   "metadata": {},
   "source": [
    "### Load data:"
   ]
  },
  {
   "cell_type": "code",
   "execution_count": null,
   "metadata": {},
   "outputs": [],
   "source": [
    "import pandas as pd\n",
    "data = pd.read_excel('measurements.xlsx')\n",
    "data = data.values # pull out 2D numpy array from the dataframe\n",
    "data.shape"
   ]
  },
  {
   "cell_type": "markdown",
   "metadata": {},
   "source": [
    "### Plot some 2D projections:"
   ]
  },
  {
   "cell_type": "code",
   "execution_count": null,
   "metadata": {},
   "outputs": [],
   "source": [
    "f, ax = plt.subplots(nrows=1, ncols=3, figsize=(15, 5))\n",
    "ax[0].set_xlabel('Dimension 0')\n",
    "ax[0].set_ylabel('Dimension 1')\n",
    "ax[0].scatter(data[:, 0], data[:, 1], s=1) # plot x vs. y for first two dimensions\n",
    "ax[1].set_xlabel('Dimension 2')\n",
    "ax[1].set_ylabel('Dimension 3')\n",
    "ax[1].scatter(data[:, 2], data[:, 3], s=1) # plot x vs. y for second two dimensions\n",
    "ax[2].set_xlabel('Dimension 4')\n",
    "ax[2].set_ylabel('Dimension 5')\n",
    "ax[2].scatter(data[:, 4], data[:, 5], s=1) # plot x vs. y for third two dimensions"
   ]
  },
  {
   "cell_type": "markdown",
   "metadata": {},
   "source": [
    "### Use PCA to reduce to top 2 most informative dimensions:"
   ]
  },
  {
   "cell_type": "code",
   "execution_count": null,
   "metadata": {},
   "outputs": [],
   "source": [
    "f, ax = plt.subplots(figsize=(5, 5))\n",
    "\n",
    "pca = PCA(n_components=2) # create a PCA object, ask for only the top 2 components\n",
    "data2 = pca.fit_transform(data) # calculate top 2 principal components, project data onto them\n",
    "ax.scatter(data2[:, 0], data2[:, 1], s=1) # plot x vs. y for all samples\n",
    "ax.set_title('PCA reduced')\n",
    "ax.set_xlabel('PC1')\n",
    "ax.set_ylabel('PC2')"
   ]
  },
  {
   "cell_type": "code",
   "execution_count": null,
   "metadata": {},
   "outputs": [],
   "source": [
    "data2"
   ]
  },
  {
   "cell_type": "markdown",
   "metadata": {},
   "source": [
    "### Cluster with K-Means:"
   ]
  },
  {
   "cell_type": "code",
   "execution_count": null,
   "metadata": {},
   "outputs": [],
   "source": [
    "f, ax = plt.subplots(figsize=(5, 5))\n",
    "# repeating list of colors that we can index into using cluster IDs:\n",
    "colorset = np.array(['red', 'orange', 'green', 'blue', 'magenta', 'gray', 'brown', 'black']*10)\n",
    "\n",
    "kmeans = cluster.KMeans(n_clusters=4) # create a KMeans object, tell it n_clusters you want\n",
    "kmeans.fit(data2) # apply KMeans to the easy dimension-reduced data\n",
    "cids = kmeans.labels_ # get resulting cluster IDs from the kmeans object, one for each sample\n",
    "colors = colorset[cids] # convert cluster IDs to colors\n",
    "ax.scatter(data2[:, 0], data2[:, 1], s=1, color=colors) # plot x vs. y for all samples\n",
    "ax.set_title('KMeans, PCA reduced')\n",
    "ax.set_xlabel('PC1')\n",
    "ax.set_ylabel('PC2')"
   ]
  },
  {
   "cell_type": "markdown",
   "metadata": {},
   "source": [
    "### Cluster with DBSCAN:"
   ]
  },
  {
   "cell_type": "code",
   "execution_count": null,
   "metadata": {},
   "outputs": [],
   "source": [
    "f, ax = plt.subplots(figsize=(5, 5))\n",
    "# repeating list of colors that we can index into using cluster IDs:\n",
    "colorset = np.array(['red', 'orange', 'green', 'blue', 'magenta', 'gray', 'brown', 'black']*10)\n",
    "\n",
    "## easy data:\n",
    "dbscan = cluster.DBSCAN(eps=0.21, min_samples=100) # create a DBSCAN object, set its two parameters\n",
    "dbscan.fit(data2) # apply DBSCAN to the easy dimension-reduced data\n",
    "cids = dbscan.labels_ # get resulting cluster IDs from the kmeans object, one for each sample\n",
    "colors = colorset[cids] # convert cluster IDs to colors\n",
    "ax.scatter(data2[:, 0], data2[:, 1], s=1, color=colors) # plot x vs. y for all samples\n",
    "ax.set_title('DBSCAN, PCA reduced')\n",
    "ax.set_xlabel('PC1')\n",
    "ax.set_ylabel('PC2')"
   ]
  },
  {
   "cell_type": "code",
   "execution_count": null,
   "metadata": {},
   "outputs": [],
   "source": [
    "pca.components_ # stores the contribution of each dimension to the first and second PCs:"
   ]
  },
  {
   "cell_type": "code",
   "execution_count": null,
   "metadata": {},
   "outputs": [],
   "source": [
    "pca.explained_variance_ # stores the amount of variance that each PC explains:"
   ]
  }
 ],
 "metadata": {
  "kernelspec": {
   "display_name": "Python 3 (ipykernel)",
   "language": "python",
   "name": "python3"
  },
  "language_info": {
   "codemirror_mode": {
    "name": "ipython",
    "version": 3
   },
   "file_extension": ".py",
   "mimetype": "text/x-python",
   "name": "python",
   "nbconvert_exporter": "python",
   "pygments_lexer": "ipython3",
   "version": "3.8.10"
  }
 },
 "nbformat": 4,
 "nbformat_minor": 2
}
